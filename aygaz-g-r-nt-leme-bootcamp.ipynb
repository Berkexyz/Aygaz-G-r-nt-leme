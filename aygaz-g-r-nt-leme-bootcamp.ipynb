{
 "cells": [
  {
   "cell_type": "markdown",
   "id": "7b4af617",
   "metadata": {
    "papermill": {
     "duration": 0.004932,
     "end_time": "2024-12-18T20:02:15.715500",
     "exception": false,
     "start_time": "2024-12-18T20:02:15.710568",
     "status": "completed"
    },
    "tags": []
   },
   "source": [
    "# 🐾 Proje: Aygaz Görüntü İşleme Kampı 🔍"
   ]
  },
  {
   "cell_type": "markdown",
   "id": "ae237dfc",
   "metadata": {
    "papermill": {
     "duration": 0.003791,
     "end_time": "2024-12-18T20:02:15.724719",
     "exception": false,
     "start_time": "2024-12-18T20:02:15.720928",
     "status": "completed"
    },
    "tags": []
   },
   "source": [
    "📌 **Projenin Amacı ve Kapsamı**:\n",
    "\n",
    "Bu proje, **görüntü işleme ve derin öğrenme** tekniklerini kullanarak çeşitli hayvanları sınıflandırmaya yönelik bir model geliştirmeyi amaçlamaktadır. Aygaz Görüntü İşleme Kampı'nda öğrendiğimiz yöntemleri uygulayarak, farklı hayvan türlerini doğru şekilde sınıflandırabilen bir yapay zeka modelinin eğitilmesi hedeflenmiştir. 🐯🐶🐱\n",
    "\n",
    "Proje kapsamında:\n",
    "\n",
    "* **Hayvan türleri**: Leopar, Dolphin, Aslan, Tilki, Moose, Tavşan, At, Sincap, Yarasa, ve Goril gibi 10 farklı hayvan türü sınıflandırılmaktadır. 🦁🦊🦏\n",
    "\n",
    "* **Veri Seti**: Bu proje, hayvan görselleri içeren geniş bir veri setini kullanarak, her bir görseli etiketleyerek modelin doğruluğunu artırmayı hedeflemiştir.\n",
    "\n",
    "* **Görüntü İşleme Teknikleri**: Görüntülerin parlaklık artırma, renk sabitliği uygulama gibi manipülasyonlarla modellenin dayanıklılığı test edilmiştir. 🔧💡"
   ]
  },
  {
   "cell_type": "markdown",
   "id": "4eb5eea2",
   "metadata": {
    "papermill": {
     "duration": 0.005203,
     "end_time": "2024-12-18T20:02:15.734936",
     "exception": false,
     "start_time": "2024-12-18T20:02:15.729733",
     "status": "completed"
    },
    "tags": []
   },
   "source": [
    "## **🛠️ Gerekli Kütüphaneler ve İşlevleri:**\n",
    "* **os, shutil**: Dosya ve klasör yönetimi işlemleri için.\n",
    "* **cv2 (OpenCV)**: Görüntü işleme ve boyutlandırma için.\n",
    "* **numpy**: Sayısal hesaplamalar ve veri manipülasyonu için.\n",
    "* **ImageDataGenerator**: Görüntü veri artırma (augmentation) için.\n",
    "* **train_test_split**: Eğitim ve test veri setlerini ayırmak için.\n",
    "* **Model, Dense, Flatten, Dropout, BatchNormalization**: Model katmanlarını oluşturmak için Keras araçları.\n",
    "* **matplotlib**: Sonuçları görselleştirmek için.\n",
    "* **keras**: Derin öğrenme modelleme ve işlevsellik için.\n",
    "* **models, layers**: Keras ile model ve katmanlar oluşturmak için."
   ]
  },
  {
   "cell_type": "code",
   "execution_count": 1,
   "id": "9636d4a3",
   "metadata": {
    "execution": {
     "iopub.execute_input": "2024-12-18T20:02:15.744194Z",
     "iopub.status.busy": "2024-12-18T20:02:15.743928Z",
     "iopub.status.idle": "2024-12-18T20:02:28.743809Z",
     "shell.execute_reply": "2024-12-18T20:02:28.743079Z"
    },
    "papermill": {
     "duration": 13.006702,
     "end_time": "2024-12-18T20:02:28.745801",
     "exception": false,
     "start_time": "2024-12-18T20:02:15.739099",
     "status": "completed"
    },
    "tags": []
   },
   "outputs": [],
   "source": [
    "import os\n",
    "import numpy as np\n",
    "import shutil\n",
    "import random\n",
    "from glob import glob\n",
    "import cv2\n",
    "import matplotlib.pyplot as plt\n",
    "from sklearn.model_selection import train_test_split\n",
    "from sklearn.preprocessing import LabelEncoder\n",
    "from tensorflow.keras.preprocessing.image import ImageDataGenerator\n",
    "from tensorflow.keras.models import Sequential\n",
    "from tensorflow.keras.layers import Conv2D, MaxPooling2D, Flatten, Dense, Dropout, BatchNormalization\n",
    "from tensorflow.keras.utils import to_categorical\n",
    "from tensorflow import keras\n",
    "from tensorflow.keras import models, layers\n",
    "\n",
    "\n"
   ]
  },
  {
   "cell_type": "markdown",
   "id": "ae7988b1",
   "metadata": {
    "papermill": {
     "duration": 0.004036,
     "end_time": "2024-12-18T20:02:28.754312",
     "exception": false,
     "start_time": "2024-12-18T20:02:28.750276",
     "status": "completed"
    },
    "tags": []
   },
   "source": [
    "## 📊**Veri Setinin Hazılanması**\n",
    "10 Hayvan türünü veri setimizden seçip klasöre taşıyoruz.\n",
    "1. **Değişkenler ve Parametreler**:\n",
    "\n",
    "    * **image_size**: Görüntülerin boyutları (128, 128) olarak ayarlanır. 🖼️\n",
    "    * **classes**: Sınıf isimleri (hayvan türleri) belirlenir. 🐆🦅\n",
    "    * **images_per_class**: Her sınıf için kullanılacak görüntü sayısı (650). 🖼️\n",
    "    * **source_dir**: Veri setinin bulunduğu kaynak dizin. 📂\n",
    "    * **train_dir ve val_dir**: Eğitim ve doğrulama verilerinin depolanacağı dizinler. 📁\n",
    "\n",
    "\n",
    "2. **Veri Hazırlama Fonksiyonu (prepare_dataset)**:\n",
    "\n",
    "    * **validation_split**: Eğitim ve doğrulama verilerini ayıran oran (varsayılan %20). 📊\n",
    "\n",
    "\n",
    "3. **Dizin Oluşturma**:\n",
    "\n",
    "    * **train_dir** ve **val_dir** içinde her sınıf için uygun alt dizinler oluşturulur. 📂\n",
    "\n",
    "\n",
    "4. **Resimlerin Seçilmesi ve Karıştırılması**:\n",
    "\n",
    "    * Her sınıftan **650** kadar görüntü seçilir. 🖼️\n",
    "    * Görüntüler rastgele karıştırılır (veri çeşitliliği sağlamak için). 🔀\n",
    "\n",
    "\n",
    "5. **Eğitim ve Doğrulama Verisi Ayırma**:\n",
    "\n",
    "    * Görüntüler, validation_split oranına göre eğitim ve doğrulama verilerine ayrılır. 📊\n",
    "\n",
    "\n",
    "6. **Görüntüleri Eğitim ve Doğrulama Dizine Kopyalama**:\n",
    "\n",
    "    * Seçilen eğitim ve doğrulama verileri uygun dizinlere kopyalanır. 📤📥\n",
    "\n",
    "\n",
    "7. **Başarıyla Veri Seti Hazırlama**:\n",
    "\n",
    "    * Veri seti başarıyla hazırlandığında kullanıcıya bilgi verilir. ✅\n"
   ]
  },
  {
   "cell_type": "code",
   "execution_count": 2,
   "id": "931865d6",
   "metadata": {
    "execution": {
     "iopub.execute_input": "2024-12-18T20:02:28.763702Z",
     "iopub.status.busy": "2024-12-18T20:02:28.763246Z",
     "iopub.status.idle": "2024-12-18T20:03:36.999300Z",
     "shell.execute_reply": "2024-12-18T20:03:36.998607Z"
    },
    "papermill": {
     "duration": 68.243005,
     "end_time": "2024-12-18T20:03:37.001351",
     "exception": false,
     "start_time": "2024-12-18T20:02:28.758346",
     "status": "completed"
    },
    "tags": []
   },
   "outputs": [],
   "source": [
    "classes = [\"leopard\", \"dolphin\", \"lion\", \"fox\", \"moose\", \"rabbit\", \"horse\", \"squirrel\", \"antelope\", \"gorilla\", \"cow\"]\n",
    "images_per_class = 650\n",
    "source_dir = \"/kaggle/input/animals-with-attributes-2/Animals_with_Attributes2/JPEGImages\"\n",
    "dest_dir = \"/kaggle/FImages/FilteredImages/train\"\n",
    "\n",
    "\n",
    "os.makedirs(dest_dir, exist_ok=True)\n",
    "    \n",
    "for class_name in classes:\n",
    "    source_path = os.path.join(source_dir, class_name)\n",
    "    dest_class_path = os.path.join(dest_dir, class_name)\n",
    "\n",
    "    os.makedirs(dest_class_path, exist_ok=True)\n",
    "        \n",
    "    images = glob(os.path.join(source_path, '*.jpg'))[:images_per_class]\n",
    "    for img in images:\n",
    "        shutil.copy(img, dest_class_path)\n",
    "           "
   ]
  },
  {
   "cell_type": "markdown",
   "id": "ea338864",
   "metadata": {
    "papermill": {
     "duration": 0.004081,
     "end_time": "2024-12-18T20:03:37.010223",
     "exception": false,
     "start_time": "2024-12-18T20:03:37.006142",
     "status": "completed"
    },
    "tags": []
   },
   "source": [
    "## 🔄**GÖRSELLERİN YÜKLENMESİ 🧩**\n",
    "Bu adımda, görselleri yükleyip uygun şekilde etiketliyoruz, böylece modelin eğitiminde kullanılacak hale getiriyoruz. 🚀\n",
    "\n",
    "📌 İşlemler:\n",
    "1. **Görsel Yükleme**: cv2.imread() ile her bir sınıfın görselleri okunur. 📂\n",
    "2. **Normalizasyon**: Görseller, modelin daha verimli öğrenmesi için 0-1 aralığına normalleştirilir (img = img / 255.0). ⚖️\n",
    "3. **Etiketleme**: Her görsel, ait olduğu sınıfın adı ile etiketlenir. 🏷️\n",
    "\n",
    "📍 Sonuçlar:\n",
    "* **X**: Ön işlenmiş tüm görseller.\n",
    "* **y**: Her görselin doğru sınıf etiketi."
   ]
  },
  {
   "cell_type": "code",
   "execution_count": 3,
   "id": "239c2736",
   "metadata": {
    "execution": {
     "iopub.execute_input": "2024-12-18T20:03:37.019283Z",
     "iopub.status.busy": "2024-12-18T20:03:37.019035Z",
     "iopub.status.idle": "2024-12-18T20:04:33.393228Z",
     "shell.execute_reply": "2024-12-18T20:04:33.392520Z"
    },
    "papermill": {
     "duration": 56.381019,
     "end_time": "2024-12-18T20:04:33.395304",
     "exception": false,
     "start_time": "2024-12-18T20:03:37.014285",
     "status": "completed"
    },
    "tags": []
   },
   "outputs": [],
   "source": [
    "def load_images(data_dir, allowed_classes):\n",
    "    images = []\n",
    "    labels = []\n",
    "    for class_name in os.listdir(data_dir):\n",
    "        if class_name not in allowed_classes:\n",
    "            continue  \n",
    "        class_path = os.path.join(data_dir, class_name)\n",
    "        for file_name in os.listdir(class_path):\n",
    "            img_path = os.path.join(class_path, file_name)\n",
    "            img = cv2.imread(img_path)\n",
    "            if img is not None:\n",
    "                img = cv2.resize(img, (128, 128)) / 255.0\n",
    "                images.append(img)\n",
    "                labels.append(class_name)\n",
    "    return np.array(images), np.array(labels)\n",
    "\n",
    "X, y = load_images(dest_dir, classes)\n"
   ]
  },
  {
   "cell_type": "markdown",
   "id": "5f2619ef",
   "metadata": {
    "papermill": {
     "duration": 0.00394,
     "end_time": "2024-12-18T20:04:33.403807",
     "exception": false,
     "start_time": "2024-12-18T20:04:33.399867",
     "status": "completed"
    },
    "tags": []
   },
   "source": [
    "## **📁 Veri Bölme ve Klasör Yapısının Oluşturulması:**\n",
    "1. **Klasör Yapısı:**\n",
    "    * Hedef dizin **(target_dir)** ve alt dizinler **(train, val)** yoksa oluşturulur.\n",
    "    * Her sınıf için de ilgili train ve val dizinleri oluşturulur.\n",
    "\n",
    "📸 Resimlerin Eğitim ve Doğrulama Kümelerine Bölünmesi: \n",
    "\n",
    "2. **Görselleri Listeleme ve Karıştırma:**\n",
    "\n",
    "    * Her sınıf için görselleri listeleyip, karıştırıyoruz. Bu adım, eğitim ve doğrulama verilerinin rastgele seçilmesini sağlar.\n",
    "\n",
    "\n",
    "3. **Veri Kümesinin Bölünmesi:**\n",
    "    * Görsellerin %80'i eğitim, %20'si doğrulama kümesine ayrılır.\n",
    "    * **split_idx** hesaplanarak görseller bölünür.\n",
    "\n",
    "**📤 Görsellerin Kopyalanması:** \n",
    "\n",
    "4. Görselleri Kopyalama:\n",
    "\n",
    "    * Eğitim ve doğrulama kümelerine ayırdıktan sonra, her bir görsel ilgili dizine **(train_class_dir** ve **val_class_dir)** kopyalanır.\n",
    "\n",
    "🔄 Sonuç:\n",
    "Bu işlem sonunda, kaynak dizindeki görseller eğitim ve doğrulama kümelerine bölünerek, her bir sınıf için doğru dizinlere yerleştirilmiş olur."
   ]
  },
  {
   "cell_type": "code",
   "execution_count": 4,
   "id": "f3e46057",
   "metadata": {
    "execution": {
     "iopub.execute_input": "2024-12-18T20:04:33.412902Z",
     "iopub.status.busy": "2024-12-18T20:04:33.412645Z",
     "iopub.status.idle": "2024-12-18T20:05:24.867136Z",
     "shell.execute_reply": "2024-12-18T20:05:24.866366Z"
    },
    "papermill": {
     "duration": 51.461408,
     "end_time": "2024-12-18T20:05:24.869195",
     "exception": false,
     "start_time": "2024-12-18T20:04:33.407787",
     "status": "completed"
    },
    "tags": []
   },
   "outputs": [],
   "source": [
    "def split_data(source_dir, target_dir, classes, test_size=0.2):\n",
    "    \n",
    "    if not os.path.exists(target_dir):\n",
    "        os.makedirs(target_dir)\n",
    "    \n",
    "    \n",
    "    train_dir = os.path.join(target_dir, 'train')\n",
    "    val_dir = os.path.join(target_dir, 'val')\n",
    "    os.makedirs(train_dir, exist_ok=True)\n",
    "    os.makedirs(val_dir, exist_ok=True)\n",
    "    \n",
    "    for class_name in classes:\n",
    "        class_path = os.path.join(source_dir, class_name)\n",
    "        \n",
    "        \n",
    "        class_train_dir = os.path.join(train_dir, class_name)\n",
    "        class_val_dir = os.path.join(val_dir, class_name)\n",
    "        os.makedirs(class_train_dir, exist_ok=True)\n",
    "        os.makedirs(class_val_dir, exist_ok=True)\n",
    "        \n",
    "        \n",
    "        images = os.listdir(class_path)\n",
    "        random.shuffle(images)\n",
    "        \n",
    "        \n",
    "        split_idx = int(len(images) * (1 - test_size))\n",
    "        train_images = images[:split_idx]\n",
    "        val_images = images[split_idx:]\n",
    "        \n",
    "        \n",
    "        for img in train_images:\n",
    "            shutil.copy(os.path.join(class_path, img), class_train_dir)\n",
    "        for img in val_images:\n",
    "            shutil.copy(os.path.join(class_path, img), class_val_dir)\n",
    "\n",
    "\n",
    "split_data(source_dir, dest_dir, classes, test_size=0.2)"
   ]
  },
  {
   "cell_type": "markdown",
   "id": "dc7d1868",
   "metadata": {
    "papermill": {
     "duration": 0.003878,
     "end_time": "2024-12-18T20:05:24.877501",
     "exception": false,
     "start_time": "2024-12-18T20:05:24.873623",
     "status": "completed"
    },
    "tags": []
   },
   "source": [
    "## **🔢 Etiketlerin Sayısal Hale Getirilmesi:**\n",
    "1. **LabelEncoder ile Etiket Dönüşümü:**\n",
    "    * **LabelEncoder()** kullanılarak, etiketler **(y)** sayısal değerlere dönüştürülür. Bu, sınıfların metin etiketlerinden (örneğin, \"leopard\", \"dolphin\") sayısal değerlere (örneğin, 0, 1, 2) dönüştürülmesi anlamına gelir.\n",
    "    * **y_encoded = encoder.fit_transform(y)** ile her bir sınıf bir sayısal etiket ile eşleştirilir.\n",
    "\n",
    "🔄 **Etiketlerin Kategorik Formata Dönüştürülmesi:**\n",
    "\n",
    "2. **Kategorik Etiketler:**\n",
    "    * **to_categorical()** fonksiyonu kullanılarak sayısal etiketler (0-9 arası) birer one-hot encoded (biri dışında sıfır olan vektörler) hale getirilir.\n",
    "    * Örneğin, sınıf 3 için **[0, 0, 1, 0, ..., 0]** gibi bir vektör oluşturulur.\n",
    "\n",
    "📊 **Veri Kümesinin Eğitim ve Test Kümelerine Bölünmesi:**\n",
    "\n",
    "3. train_test_split:\n",
    "    * **train_test_split()** fonksiyonu ile görseller **(X)** ve etiketler **(y_categorical)** eğitim ve test kümesine ayrılır.\n",
    "    * **test_size=0.2** parametresi ile verinin %80'i eğitim, %20'si test kümesine ayrılır.\n",
    "    * **random_state=17** parametresi, işlem tekrarı için rastgelelikin sabit kalmasını sağlar.\n",
    "\n",
    "🔄 Sonuç:\n",
    "Sonuç olarak, eğitim için kullanılan görseller **(X_train)**, test için kullanılan görseller **(X_test)**, eğitim etiketleri **(y_train)** ve test etiketleri **(y_test)** oluşturulur. Bu adım, modelin eğitim ve doğrulama süreçlerinde kullanılması için veri kümesinin doğru şekilde bölünmesini sağlar."
   ]
  },
  {
   "cell_type": "code",
   "execution_count": 5,
   "id": "a12f17ad",
   "metadata": {
    "execution": {
     "iopub.execute_input": "2024-12-18T20:05:24.886930Z",
     "iopub.status.busy": "2024-12-18T20:05:24.886230Z",
     "iopub.status.idle": "2024-12-18T20:05:25.676720Z",
     "shell.execute_reply": "2024-12-18T20:05:25.675722Z"
    },
    "papermill": {
     "duration": 0.797315,
     "end_time": "2024-12-18T20:05:25.678733",
     "exception": false,
     "start_time": "2024-12-18T20:05:24.881418",
     "status": "completed"
    },
    "tags": []
   },
   "outputs": [],
   "source": [
    "encoder = LabelEncoder()\n",
    "y_encoded = encoder.fit_transform(y)\n",
    "y_categorical = to_categorical(y_encoded)\n",
    "X_train, X_test, y_train, y_test = train_test_split(X, y_categorical, test_size=0.2, random_state=17)\n"
   ]
  },
  {
   "cell_type": "markdown",
   "id": "0b0e2e3f",
   "metadata": {
    "papermill": {
     "duration": 0.003849,
     "end_time": "2024-12-18T20:05:25.686928",
     "exception": false,
     "start_time": "2024-12-18T20:05:25.683079",
     "status": "completed"
    },
    "tags": []
   },
   "source": [
    "## 🛠️ **Veri Artırma ile Eğitim ve Doğrulama Veri Akışı (Data Generators)**\r\n",
    "\r\n",
    "Bu adımda, `ImageDataGenerator` sınıfı kullanılarak görseller üzerinde çeşitli veri artırma teknikleri uygulanır ve modelin eğitim verilerine erişim sağlanır. İşlem adımları şu şekilde açıklanabilir:\r\n",
    "\r\n",
    "🔄 **Eğitim Verisi Akışı:**\r\n",
    "\r\n",
    "Eğitim verileri üzerinde veri artırma işlemleri gerçekleştirilir. Bu, modelin daha güçlü ve genellenebilir olmasına yardımcı olur. Örneğin, görseller üzerinde döndürme, kaydırma, zoom yapma, parlaklık değişimi, renk kanalı kaydırması ve yatay çevrim gibi teknikler uygulanır. Bu sayede, model farklı veri çeşitliliği ile eğitilir ve daha iyi performans gösterir.\r\n",
    "\r\n",
    "🔄 **Doğrulama Verisi Akışı:**\r\n",
    "\r\n",
    "Doğrulama verileri üzerinde de benzer veri artırma teknikleri uygulanabilir. Bu sayede, doğrulama seti üzerinde de modelin genellenebilirliği artırılır.\r\n",
    "\r\n",
    "🚀 **Sonuç:**\r\n",
    "\r\n",
    "Eğitim ve doğrulama verileri üzerinde yapılan veri artırma işlemleriyle, modelin daha fazla ve çeşitli veri görmesi sağlanır. Bu, modelin genel doğruluğunu artırır ve aşırı uyum (overfitting) riskini azaltır."
   ]
  },
  {
   "cell_type": "code",
   "execution_count": 6,
   "id": "bf2543e6",
   "metadata": {
    "execution": {
     "iopub.execute_input": "2024-12-18T20:05:25.696236Z",
     "iopub.status.busy": "2024-12-18T20:05:25.695625Z",
     "iopub.status.idle": "2024-12-18T20:05:28.858306Z",
     "shell.execute_reply": "2024-12-18T20:05:28.857272Z"
    },
    "papermill": {
     "duration": 3.170895,
     "end_time": "2024-12-18T20:05:28.861733",
     "exception": false,
     "start_time": "2024-12-18T20:05:25.690838",
     "status": "completed"
    },
    "tags": []
   },
   "outputs": [],
   "source": [
    "train_datagen = ImageDataGenerator(\n",
    "    rotation_range=20,\n",
    "    width_shift_range=0.1,\n",
    "    height_shift_range=0.1,\n",
    "    shear_range=0.2,\n",
    "    zoom_range=0.2,\n",
    "    brightness_range=[0.5, 1.5],  # Parlaklık değişimi\n",
    "    channel_shift_range=50.0,     # Renk kanalı kaydırması\n",
    "    horizontal_flip=True,\n",
    "    fill_mode='nearest'\n",
    ")\n",
    "\n",
    "train_datagen.fit(X_train)\n",
    "\n"
   ]
  },
  {
   "cell_type": "markdown",
   "id": "399f473e",
   "metadata": {
    "papermill": {
     "duration": 0.004206,
     "end_time": "2024-12-18T20:05:28.874750",
     "exception": false,
     "start_time": "2024-12-18T20:05:28.870544",
     "status": "completed"
    },
    "tags": []
   },
   "source": [
    "## **🧠 CNN Modeli ve Eğitimi**\n",
    "Bu bölümde, bir **Convolutional Neural Network (CNN)** modeli oluşturduk ve derledik. Model, görsel verileri işleyip sınıflandırmak için aşağıdaki katmanları içeriyor:\n",
    "\n",
    "* **Input Layer:** Görselleri 128x128 boyutlarında ve RGB formatında alır.\n",
    "* **Conv2D:** Görsellerdeki temel özellikleri (kenar, renk vb.) öğrenmek için filtreler uygular.\n",
    "* **MaxPooling2D:** Görsel boyutunu küçültüp işlem yükünü azaltır.\n",
    "* **Flatten:** 2D çıktıyı tek boyutlu vektöre dönüştürür.\n",
    "* **Dense Layers:** Öğrenilen özellikleri daha soyut seviyelerde temsil eder ve sınıflandırma yapar.\n",
    "* **Output Layer:** Her sınıf için bir tahmin yapar ve softmax fonksiyonu ile sonuçları normalize eder.\n",
    "\n",
    "Modelin derlenmesi için **Adam optimizer** ve **categorical_crossentropy** kayıp fonksiyonu kullanıldı. Bu yapı, görsel sınıflandırma problemleri için uygun olup, doğruluk metriği ile başarısını değerlendirir.\n",
    "\n",
    "eilmiştir.\r\n",
    "\r\n",
    "🔄 **Veri Artırma ve Eğitim Veri Akışı:**\r\n",
    "\r\n",
    "- **Veri Artırma (Data Augmentation):** Görseller üzerinde döndürme, yatay kaydırma, ve yatay çevrim gibi tekniklerle veri artırma yapılır. Bu, modelin daha fazla veri ile eğitilmesine olanak sağlar ve modelin genellenebilirliğini artırır.\r\n",
    "  \r\n",
    "- **Eğitim ve Test Jeneratörleri:** Eğitim verileri **train_generator** ile, test verileri ise **test_generator** ile işlenir. Bu jeneratörler, her seferinde belirli sayıda örnek (32) ile modelin eğitilmesini sağlar.\r\n",
    "\r\n",
    "🚀 **Sonuç:**\r\n",
    "\r\n",
    "Model, eğitim verileri üzerinde veri artırma işlemleriyle eğitilir ve test verileriyle doğrulama yapılır. Bu süreç, modelin genellenebilirliğini artırarak daha sağlam sonuçlar elde edilmesini sağlar."
   ]
  },
  {
   "cell_type": "code",
   "execution_count": 7,
   "id": "76bf51b6",
   "metadata": {
    "execution": {
     "iopub.execute_input": "2024-12-18T20:05:28.886329Z",
     "iopub.status.busy": "2024-12-18T20:05:28.886014Z",
     "iopub.status.idle": "2024-12-18T20:05:31.188677Z",
     "shell.execute_reply": "2024-12-18T20:05:31.187869Z"
    },
    "papermill": {
     "duration": 2.309884,
     "end_time": "2024-12-18T20:05:31.190539",
     "exception": false,
     "start_time": "2024-12-18T20:05:28.880655",
     "status": "completed"
    },
    "tags": []
   },
   "outputs": [],
   "source": [
    "model_cnn = models.Sequential([\n",
    "    layers.Input(shape=(128, 128, 3)),  \n",
    "    layers.Conv2D(32, (3, 3), activation='relu'),\n",
    "    layers.MaxPooling2D(pool_size=(2, 2)),\n",
    "    layers.Flatten(),  # Düzleştirme katmanı\n",
    "    layers.Dense(128, activation='relu'),\n",
    "    layers.Dense(len(classes), activation='softmax')  \n",
    "])\n",
    "\n",
    "\n",
    "model_cnn.compile(\n",
    "    optimizer='adam',  \n",
    "    loss='categorical_crossentropy',\n",
    "    metrics=['accuracy']\n",
    ")\n",
    "\n",
    "datagen = ImageDataGenerator(\n",
    "    rotation_range=20,\n",
    "    width_shift_range=0.1,\n",
    "    height_shift_range=0.1,\n",
    "    horizontal_flip=True\n",
    ")\n",
    "\n",
    "# Eğitim ve doğrulama jeneratörleri\n",
    "train_generator = datagen.flow(X_train, y_train, batch_size=32)\n",
    "test_generator = datagen.flow(X_test, y_test, batch_size=32)"
   ]
  },
  {
   "cell_type": "markdown",
   "id": "74cabf30",
   "metadata": {
    "papermill": {
     "duration": 0.004108,
     "end_time": "2024-12-18T20:05:31.198985",
     "exception": false,
     "start_time": "2024-12-18T20:05:31.194877",
     "status": "completed"
    },
    "tags": []
   },
   "source": [
    "## 📈**Modelin Eğitimi ve Parametre Ayarları**\n",
    "\n",
    "Bu adımda, modelimizi eğitmek için gerekli parametreler ayarlandı ve eğitim süreci başlatıldı.\n",
    "* **steps_per_epoch:** Eğitim verisetindeki toplam örnek sayısı (X_train) ile batch size (32) bölünerek bir epoch'ta kaç adım yapılacağı hesaplanır. Bu, modelin her epoch sırasında kaç kere eğitim verisi ile güncellenmesi gerektiğini belirler.\n",
    "\n",
    "* **validation_steps:** Test verisetindeki toplam örnek sayısı (X_test) ile batch size (32) bölünerek doğrulama adımlarının sayısı belirlenir.\n",
    "\n",
    "Modelin eğitimi fit() fonksiyonu ile başlatıldı:\n",
    "\n",
    "* **train_generator:** Eğitim verilerini yükleyen ve işleyecek olan jeneratör.\n",
    "* **validation_generator:** Doğrulama verilerini yükleyen jeneratör.\n",
    "* **epochs:** Modelin 25 epoch boyunca eğitileceği belirtilmiş.\n",
    "Eğitim sırasında her epoch'ta modelin doğruluk ve kayıp değerleri izlenir."
   ]
  },
  {
   "cell_type": "code",
   "execution_count": 8,
   "id": "b7a6ed62",
   "metadata": {
    "execution": {
     "iopub.execute_input": "2024-12-18T20:05:31.208515Z",
     "iopub.status.busy": "2024-12-18T20:05:31.207858Z",
     "iopub.status.idle": "2024-12-18T20:15:13.894368Z",
     "shell.execute_reply": "2024-12-18T20:15:13.893215Z"
    },
    "papermill": {
     "duration": 582.874683,
     "end_time": "2024-12-18T20:15:14.077706",
     "exception": false,
     "start_time": "2024-12-18T20:05:31.203023",
     "status": "completed"
    },
    "tags": []
   },
   "outputs": [
    {
     "name": "stdout",
     "output_type": "stream",
     "text": [
      "Epoch 1/50\n"
     ]
    },
    {
     "name": "stderr",
     "output_type": "stream",
     "text": [
      "/opt/conda/lib/python3.10/site-packages/keras/src/trainers/data_adapters/py_dataset_adapter.py:121: UserWarning: Your `PyDataset` class should call `super().__init__(**kwargs)` in its constructor. `**kwargs` can include `workers`, `use_multiprocessing`, `max_queue_size`. Do not pass these arguments to `fit()`, as they will be ignored.\n",
      "  self._warn_if_super_not_called()\n",
      "WARNING: All log messages before absl::InitializeLog() is called are written to STDERR\n",
      "I0000 00:00:1734552333.269133      69 service.cc:145] XLA service 0x78d71c002c30 initialized for platform CUDA (this does not guarantee that XLA will be used). Devices:\n",
      "I0000 00:00:1734552333.269249      69 service.cc:153]   StreamExecutor device (0): Tesla T4, Compute Capability 7.5\n",
      "I0000 00:00:1734552333.269256      69 service.cc:153]   StreamExecutor device (1): Tesla T4, Compute Capability 7.5\n"
     ]
    },
    {
     "name": "stdout",
     "output_type": "stream",
     "text": [
      "\u001b[1m  3/178\u001b[0m \u001b[37m━━━━━━━━━━━━━━━━━━━━\u001b[0m \u001b[1m10s\u001b[0m 59ms/step - accuracy: 0.0851 - loss: 6.7370"
     ]
    },
    {
     "name": "stderr",
     "output_type": "stream",
     "text": [
      "I0000 00:00:1734552336.758693      69 device_compiler.h:188] Compiled cluster using XLA!  This line is logged at most once for the lifetime of the process.\n"
     ]
    },
    {
     "name": "stdout",
     "output_type": "stream",
     "text": [
      "\u001b[1m178/178\u001b[0m \u001b[32m━━━━━━━━━━━━━━━━━━━━\u001b[0m\u001b[37m\u001b[0m \u001b[1m30s\u001b[0m 139ms/step - accuracy: 0.2540 - loss: 3.5317 - val_accuracy: 0.4013 - val_loss: 1.7531\n",
      "Epoch 2/50\n",
      "\u001b[1m  1/178\u001b[0m \u001b[37m━━━━━━━━━━━━━━━━━━━━\u001b[0m \u001b[1m2s\u001b[0m 15ms/step - accuracy: 0.5312 - loss: 1.5515"
     ]
    },
    {
     "name": "stderr",
     "output_type": "stream",
     "text": [
      "/opt/conda/lib/python3.10/contextlib.py:153: UserWarning: Your input ran out of data; interrupting training. Make sure that your dataset or generator can generate at least `steps_per_epoch * epochs` batches. You may need to use the `.repeat()` function when building your dataset.\n",
      "  self.gen.throw(typ, value, traceback)\n"
     ]
    },
    {
     "name": "stdout",
     "output_type": "stream",
     "text": [
      "\u001b[1m178/178\u001b[0m \u001b[32m━━━━━━━━━━━━━━━━━━━━\u001b[0m\u001b[37m\u001b[0m \u001b[1m1s\u001b[0m 4ms/step - accuracy: 0.5312 - loss: 1.5515 - val_accuracy: 0.3636 - val_loss: 1.7596\n",
      "Epoch 3/50\n",
      "\u001b[1m178/178\u001b[0m \u001b[32m━━━━━━━━━━━━━━━━━━━━\u001b[0m\u001b[37m\u001b[0m \u001b[1m23s\u001b[0m 125ms/step - accuracy: 0.4198 - loss: 1.6775 - val_accuracy: 0.4801 - val_loss: 1.5529\n",
      "Epoch 4/50\n",
      "\u001b[1m178/178\u001b[0m \u001b[32m━━━━━━━━━━━━━━━━━━━━\u001b[0m\u001b[37m\u001b[0m \u001b[1m0s\u001b[0m 331us/step - accuracy: 0.4688 - loss: 1.6267 - val_accuracy: 0.4091 - val_loss: 1.8128\n",
      "Epoch 5/50\n",
      "\u001b[1m178/178\u001b[0m \u001b[32m━━━━━━━━━━━━━━━━━━━━\u001b[0m\u001b[37m\u001b[0m \u001b[1m23s\u001b[0m 124ms/step - accuracy: 0.4681 - loss: 1.5483 - val_accuracy: 0.4624 - val_loss: 1.5030\n",
      "Epoch 6/50\n",
      "\u001b[1m178/178\u001b[0m \u001b[32m━━━━━━━━━━━━━━━━━━━━\u001b[0m\u001b[37m\u001b[0m \u001b[1m0s\u001b[0m 316us/step - accuracy: 0.5000 - loss: 1.5233 - val_accuracy: 0.5455 - val_loss: 1.1492\n",
      "Epoch 7/50\n",
      "\u001b[1m178/178\u001b[0m \u001b[32m━━━━━━━━━━━━━━━━━━━━\u001b[0m\u001b[37m\u001b[0m \u001b[1m23s\u001b[0m 125ms/step - accuracy: 0.4969 - loss: 1.4404 - val_accuracy: 0.4943 - val_loss: 1.5075\n",
      "Epoch 8/50\n",
      "\u001b[1m178/178\u001b[0m \u001b[32m━━━━━━━━━━━━━━━━━━━━\u001b[0m\u001b[37m\u001b[0m \u001b[1m0s\u001b[0m 326us/step - accuracy: 0.4688 - loss: 1.5419 - val_accuracy: 0.3636 - val_loss: 1.6620\n",
      "Epoch 9/50\n",
      "\u001b[1m178/178\u001b[0m \u001b[32m━━━━━━━━━━━━━━━━━━━━\u001b[0m\u001b[37m\u001b[0m \u001b[1m23s\u001b[0m 124ms/step - accuracy: 0.5135 - loss: 1.4320 - val_accuracy: 0.4787 - val_loss: 1.5322\n",
      "Epoch 10/50\n",
      "\u001b[1m178/178\u001b[0m \u001b[32m━━━━━━━━━━━━━━━━━━━━\u001b[0m\u001b[37m\u001b[0m \u001b[1m0s\u001b[0m 421us/step - accuracy: 0.4688 - loss: 1.5084 - val_accuracy: 0.3636 - val_loss: 1.8840\n",
      "Epoch 11/50\n",
      "\u001b[1m178/178\u001b[0m \u001b[32m━━━━━━━━━━━━━━━━━━━━\u001b[0m\u001b[37m\u001b[0m \u001b[1m23s\u001b[0m 125ms/step - accuracy: 0.5142 - loss: 1.3591 - val_accuracy: 0.5099 - val_loss: 1.4581\n",
      "Epoch 12/50\n",
      "\u001b[1m178/178\u001b[0m \u001b[32m━━━━━━━━━━━━━━━━━━━━\u001b[0m\u001b[37m\u001b[0m \u001b[1m0s\u001b[0m 353us/step - accuracy: 0.5938 - loss: 1.0010 - val_accuracy: 0.5455 - val_loss: 1.6395\n",
      "Epoch 13/50\n",
      "\u001b[1m178/178\u001b[0m \u001b[32m━━━━━━━━━━━━━━━━━━━━\u001b[0m\u001b[37m\u001b[0m \u001b[1m23s\u001b[0m 124ms/step - accuracy: 0.5374 - loss: 1.3461 - val_accuracy: 0.5298 - val_loss: 1.4015\n",
      "Epoch 14/50\n",
      "\u001b[1m178/178\u001b[0m \u001b[32m━━━━━━━━━━━━━━━━━━━━\u001b[0m\u001b[37m\u001b[0m \u001b[1m0s\u001b[0m 348us/step - accuracy: 0.5312 - loss: 1.3165 - val_accuracy: 0.5455 - val_loss: 1.3784\n",
      "Epoch 15/50\n",
      "\u001b[1m178/178\u001b[0m \u001b[32m━━━━━━━━━━━━━━━━━━━━\u001b[0m\u001b[37m\u001b[0m \u001b[1m23s\u001b[0m 126ms/step - accuracy: 0.5629 - loss: 1.2884 - val_accuracy: 0.5341 - val_loss: 1.3964\n",
      "Epoch 16/50\n",
      "\u001b[1m178/178\u001b[0m \u001b[32m━━━━━━━━━━━━━━━━━━━━\u001b[0m\u001b[37m\u001b[0m \u001b[1m0s\u001b[0m 389us/step - accuracy: 0.6562 - loss: 1.0422 - val_accuracy: 0.6364 - val_loss: 1.2619\n",
      "Epoch 17/50\n",
      "\u001b[1m178/178\u001b[0m \u001b[32m━━━━━━━━━━━━━━━━━━━━\u001b[0m\u001b[37m\u001b[0m \u001b[1m23s\u001b[0m 125ms/step - accuracy: 0.5627 - loss: 1.2685 - val_accuracy: 0.5384 - val_loss: 1.3605\n",
      "Epoch 18/50\n",
      "\u001b[1m178/178\u001b[0m \u001b[32m━━━━━━━━━━━━━━━━━━━━\u001b[0m\u001b[37m\u001b[0m \u001b[1m0s\u001b[0m 342us/step - accuracy: 0.5625 - loss: 1.3597 - val_accuracy: 0.5909 - val_loss: 1.2530\n",
      "Epoch 19/50\n",
      "\u001b[1m178/178\u001b[0m \u001b[32m━━━━━━━━━━━━━━━━━━━━\u001b[0m\u001b[37m\u001b[0m \u001b[1m23s\u001b[0m 124ms/step - accuracy: 0.5683 - loss: 1.2541 - val_accuracy: 0.5241 - val_loss: 1.3898\n",
      "Epoch 20/50\n",
      "\u001b[1m178/178\u001b[0m \u001b[32m━━━━━━━━━━━━━━━━━━━━\u001b[0m\u001b[37m\u001b[0m \u001b[1m0s\u001b[0m 328us/step - accuracy: 0.4688 - loss: 1.4612 - val_accuracy: 0.5000 - val_loss: 1.4619\n",
      "Epoch 21/50\n",
      "\u001b[1m178/178\u001b[0m \u001b[32m━━━━━━━━━━━━━━━━━━━━\u001b[0m\u001b[37m\u001b[0m \u001b[1m23s\u001b[0m 124ms/step - accuracy: 0.5710 - loss: 1.2385 - val_accuracy: 0.5455 - val_loss: 1.3665\n",
      "Epoch 22/50\n",
      "\u001b[1m178/178\u001b[0m \u001b[32m━━━━━━━━━━━━━━━━━━━━\u001b[0m\u001b[37m\u001b[0m \u001b[1m0s\u001b[0m 382us/step - accuracy: 0.5938 - loss: 1.1520 - val_accuracy: 0.5455 - val_loss: 1.2530\n",
      "Epoch 23/50\n",
      "\u001b[1m178/178\u001b[0m \u001b[32m━━━━━━━━━━━━━━━━━━━━\u001b[0m\u001b[37m\u001b[0m \u001b[1m23s\u001b[0m 124ms/step - accuracy: 0.5713 - loss: 1.2570 - val_accuracy: 0.5696 - val_loss: 1.3044\n",
      "Epoch 24/50\n",
      "\u001b[1m178/178\u001b[0m \u001b[32m━━━━━━━━━━━━━━━━━━━━\u001b[0m\u001b[37m\u001b[0m \u001b[1m0s\u001b[0m 328us/step - accuracy: 0.5625 - loss: 1.2220 - val_accuracy: 0.6364 - val_loss: 1.1798\n",
      "Epoch 25/50\n",
      "\u001b[1m178/178\u001b[0m \u001b[32m━━━━━━━━━━━━━━━━━━━━\u001b[0m\u001b[37m\u001b[0m \u001b[1m23s\u001b[0m 125ms/step - accuracy: 0.5873 - loss: 1.1788 - val_accuracy: 0.5511 - val_loss: 1.3311\n",
      "Epoch 26/50\n",
      "\u001b[1m178/178\u001b[0m \u001b[32m━━━━━━━━━━━━━━━━━━━━\u001b[0m\u001b[37m\u001b[0m \u001b[1m0s\u001b[0m 343us/step - accuracy: 0.6875 - loss: 1.0383 - val_accuracy: 0.5909 - val_loss: 1.4695\n",
      "Epoch 27/50\n",
      "\u001b[1m178/178\u001b[0m \u001b[32m━━━━━━━━━━━━━━━━━━━━\u001b[0m\u001b[37m\u001b[0m \u001b[1m23s\u001b[0m 124ms/step - accuracy: 0.6082 - loss: 1.1533 - val_accuracy: 0.5582 - val_loss: 1.3398\n",
      "Epoch 28/50\n",
      "\u001b[1m178/178\u001b[0m \u001b[32m━━━━━━━━━━━━━━━━━━━━\u001b[0m\u001b[37m\u001b[0m \u001b[1m0s\u001b[0m 450us/step - accuracy: 0.5938 - loss: 1.0770 - val_accuracy: 0.5455 - val_loss: 1.6393\n",
      "Epoch 29/50\n",
      "\u001b[1m178/178\u001b[0m \u001b[32m━━━━━━━━━━━━━━━━━━━━\u001b[0m\u001b[37m\u001b[0m \u001b[1m23s\u001b[0m 124ms/step - accuracy: 0.5968 - loss: 1.1534 - val_accuracy: 0.5575 - val_loss: 1.2893\n",
      "Epoch 30/50\n",
      "\u001b[1m178/178\u001b[0m \u001b[32m━━━━━━━━━━━━━━━━━━━━\u001b[0m\u001b[37m\u001b[0m \u001b[1m0s\u001b[0m 326us/step - accuracy: 0.7500 - loss: 0.8839 - val_accuracy: 0.5455 - val_loss: 1.1533\n",
      "Epoch 31/50\n",
      "\u001b[1m178/178\u001b[0m \u001b[32m━━━━━━━━━━━━━━━━━━━━\u001b[0m\u001b[37m\u001b[0m \u001b[1m23s\u001b[0m 125ms/step - accuracy: 0.6120 - loss: 1.1384 - val_accuracy: 0.5419 - val_loss: 1.3468\n",
      "Epoch 32/50\n",
      "\u001b[1m178/178\u001b[0m \u001b[32m━━━━━━━━━━━━━━━━━━━━\u001b[0m\u001b[37m\u001b[0m \u001b[1m0s\u001b[0m 334us/step - accuracy: 0.5312 - loss: 1.3447 - val_accuracy: 0.6818 - val_loss: 1.4903\n",
      "Epoch 33/50\n",
      "\u001b[1m178/178\u001b[0m \u001b[32m━━━━━━━━━━━━━━━━━━━━\u001b[0m\u001b[37m\u001b[0m \u001b[1m23s\u001b[0m 125ms/step - accuracy: 0.6166 - loss: 1.1129 - val_accuracy: 0.5675 - val_loss: 1.3241\n",
      "Epoch 34/50\n",
      "\u001b[1m178/178\u001b[0m \u001b[32m━━━━━━━━━━━━━━━━━━━━\u001b[0m\u001b[37m\u001b[0m \u001b[1m0s\u001b[0m 418us/step - accuracy: 0.5625 - loss: 1.1371 - val_accuracy: 0.7727 - val_loss: 0.6810\n",
      "Epoch 35/50\n",
      "\u001b[1m178/178\u001b[0m \u001b[32m━━━━━━━━━━━━━━━━━━━━\u001b[0m\u001b[37m\u001b[0m \u001b[1m23s\u001b[0m 123ms/step - accuracy: 0.6114 - loss: 1.1343 - val_accuracy: 0.5746 - val_loss: 1.2712\n",
      "Epoch 36/50\n",
      "\u001b[1m178/178\u001b[0m \u001b[32m━━━━━━━━━━━━━━━━━━━━\u001b[0m\u001b[37m\u001b[0m \u001b[1m0s\u001b[0m 353us/step - accuracy: 0.5938 - loss: 1.2577 - val_accuracy: 0.7273 - val_loss: 1.0602\n",
      "Epoch 37/50\n",
      "\u001b[1m178/178\u001b[0m \u001b[32m━━━━━━━━━━━━━━━━━━━━\u001b[0m\u001b[37m\u001b[0m \u001b[1m23s\u001b[0m 125ms/step - accuracy: 0.6215 - loss: 1.0848 - val_accuracy: 0.5618 - val_loss: 1.2898\n",
      "Epoch 38/50\n",
      "\u001b[1m178/178\u001b[0m \u001b[32m━━━━━━━━━━━━━━━━━━━━\u001b[0m\u001b[37m\u001b[0m \u001b[1m0s\u001b[0m 307us/step - accuracy: 0.5938 - loss: 1.0731 - val_accuracy: 0.5455 - val_loss: 1.0399\n",
      "Epoch 39/50\n",
      "\u001b[1m178/178\u001b[0m \u001b[32m━━━━━━━━━━━━━━━━━━━━\u001b[0m\u001b[37m\u001b[0m \u001b[1m23s\u001b[0m 125ms/step - accuracy: 0.6261 - loss: 1.1024 - val_accuracy: 0.5724 - val_loss: 1.3183\n",
      "Epoch 40/50\n",
      "\u001b[1m178/178\u001b[0m \u001b[32m━━━━━━━━━━━━━━━━━━━━\u001b[0m\u001b[37m\u001b[0m \u001b[1m0s\u001b[0m 324us/step - accuracy: 0.5625 - loss: 1.2610 - val_accuracy: 0.6818 - val_loss: 1.0309\n",
      "Epoch 41/50\n",
      "\u001b[1m178/178\u001b[0m \u001b[32m━━━━━━━━━━━━━━━━━━━━\u001b[0m\u001b[37m\u001b[0m \u001b[1m23s\u001b[0m 124ms/step - accuracy: 0.6293 - loss: 1.0788 - val_accuracy: 0.5803 - val_loss: 1.2942\n",
      "Epoch 42/50\n",
      "\u001b[1m178/178\u001b[0m \u001b[32m━━━━━━━━━━━━━━━━━━━━\u001b[0m\u001b[37m\u001b[0m \u001b[1m0s\u001b[0m 380us/step - accuracy: 0.6562 - loss: 0.8799 - val_accuracy: 0.5000 - val_loss: 1.6496\n",
      "Epoch 43/50\n",
      "\u001b[1m178/178\u001b[0m \u001b[32m━━━━━━━━━━━━━━━━━━━━\u001b[0m\u001b[37m\u001b[0m \u001b[1m23s\u001b[0m 126ms/step - accuracy: 0.6018 - loss: 1.1234 - val_accuracy: 0.5696 - val_loss: 1.3067\n",
      "Epoch 44/50\n",
      "\u001b[1m178/178\u001b[0m \u001b[32m━━━━━━━━━━━━━━━━━━━━\u001b[0m\u001b[37m\u001b[0m \u001b[1m0s\u001b[0m 329us/step - accuracy: 0.6875 - loss: 0.9326 - val_accuracy: 0.5909 - val_loss: 1.2893\n",
      "Epoch 45/50\n",
      "\u001b[1m178/178\u001b[0m \u001b[32m━━━━━━━━━━━━━━━━━━━━\u001b[0m\u001b[37m\u001b[0m \u001b[1m23s\u001b[0m 125ms/step - accuracy: 0.6330 - loss: 1.0813 - val_accuracy: 0.5831 - val_loss: 1.3228\n",
      "Epoch 46/50\n",
      "\u001b[1m178/178\u001b[0m \u001b[32m━━━━━━━━━━━━━━━━━━━━\u001b[0m\u001b[37m\u001b[0m \u001b[1m0s\u001b[0m 325us/step - accuracy: 0.5625 - loss: 1.3109 - val_accuracy: 0.5909 - val_loss: 1.0162\n",
      "Epoch 47/50\n",
      "\u001b[1m178/178\u001b[0m \u001b[32m━━━━━━━━━━━━━━━━━━━━\u001b[0m\u001b[37m\u001b[0m \u001b[1m23s\u001b[0m 126ms/step - accuracy: 0.6223 - loss: 1.0964 - val_accuracy: 0.5923 - val_loss: 1.2810\n",
      "Epoch 48/50\n",
      "\u001b[1m178/178\u001b[0m \u001b[32m━━━━━━━━━━━━━━━━━━━━\u001b[0m\u001b[37m\u001b[0m \u001b[1m0s\u001b[0m 322us/step - accuracy: 0.7812 - loss: 0.8357 - val_accuracy: 0.5000 - val_loss: 1.2778\n",
      "Epoch 49/50\n",
      "\u001b[1m178/178\u001b[0m \u001b[32m━━━━━━━━━━━━━━━━━━━━\u001b[0m\u001b[37m\u001b[0m \u001b[1m23s\u001b[0m 124ms/step - accuracy: 0.6390 - loss: 1.0594 - val_accuracy: 0.5696 - val_loss: 1.3146\n",
      "Epoch 50/50\n",
      "\u001b[1m178/178\u001b[0m \u001b[32m━━━━━━━━━━━━━━━━━━━━\u001b[0m\u001b[37m\u001b[0m \u001b[1m0s\u001b[0m 384us/step - accuracy: 0.5625 - loss: 1.2197 - val_accuracy: 0.4545 - val_loss: 1.5816\n"
     ]
    }
   ],
   "source": [
    "steps_per_epoch = len(X_train) // 32 \n",
    "validation_steps = len(X_test) // 32 \n",
    "\n",
    "\n",
    "history = model_cnn.fit(\n",
    "    train_generator,\n",
    "    validation_data=test_generator,\n",
    "    epochs=50,\n",
    "    steps_per_epoch=steps_per_epoch,\n",
    "    validation_steps=validation_steps\n",
    ")\n"
   ]
  },
  {
   "cell_type": "markdown",
   "id": "2dccbc07",
   "metadata": {
    "papermill": {
     "duration": 0.20567,
     "end_time": "2024-12-18T20:15:14.491335",
     "exception": false,
     "start_time": "2024-12-18T20:15:14.285665",
     "status": "completed"
    },
    "tags": []
   },
   "source": [
    "## **📊Eğitim Sonuçlarının Görselleştirilmesi**\r\n",
    "\r\n",
    "Bu adımda, modelin eğitim ve doğrulama doğruluğu ile kayıp değerlerini görselleştirdik. Eğitim sürecinin nasıl ilerlediğini değerlendirmek için doğruluk ve kayıp eğrilerini çizdik. \r\n",
    "\r\n",
    "- **Doğruluk Eğrisi**: Eğitim ve doğrulama doğruluğu arasındaki farkı gösteriyor. Modelin doğruluğunun nasıl arttığını gözlemleyebilirsiniz.\r\n",
    "- **Kayıp Eğrisi**: Eğitim ve doğrulama kayıplarını gösterir. Eğitim sırasında modelin kaybının nasıl azaldığını ve doğrulama kaybının durumunu inceleyebilirsiniz."
   ]
  },
  {
   "cell_type": "code",
   "execution_count": 9,
   "id": "158d8399",
   "metadata": {
    "execution": {
     "iopub.execute_input": "2024-12-18T20:15:14.949975Z",
     "iopub.status.busy": "2024-12-18T20:15:14.949025Z",
     "iopub.status.idle": "2024-12-18T20:15:15.364005Z",
     "shell.execute_reply": "2024-12-18T20:15:15.363164Z"
    },
    "papermill": {
     "duration": 0.666501,
     "end_time": "2024-12-18T20:15:15.366197",
     "exception": false,
     "start_time": "2024-12-18T20:15:14.699696",
     "status": "completed"
    },
    "tags": []
   },
   "outputs": [
    {
     "data": {
      "image/png": "[encoded data removed]",
      "text/plain": [
       "<Figure size 1200x400 with 2 Axes>"
      ]
     },
     "metadata": {},
     "output_type": "display_data"
    }
   ],
   "source": [
    "plt.figure(figsize=(12, 4))\n",
    "plt.subplot(1, 2, 1)\n",
    "plt.plot(history.history['accuracy'], label='Train Accuracy')\n",
    "plt.plot(history.history['val_accuracy'], label='Validation Accuracy')\n",
    "plt.legend()\n",
    "plt.title('Accuracy')\n",
    "\n",
    "plt.subplot(1, 2, 2)\n",
    "plt.plot(history.history['loss'], label='Train Loss')\n",
    "plt.plot(history.history['val_loss'], label='Validation Loss')\n",
    "plt.legend()\n",
    "plt.title('Loss')\n",
    "\n",
    "plt.show()"
   ]
  },
  {
   "cell_type": "markdown",
   "id": "98c8be92",
   "metadata": {
    "papermill": {
     "duration": 0.20635,
     "end_time": "2024-12-18T20:15:15.783119",
     "exception": false,
     "start_time": "2024-12-18T20:15:15.576769",
     "status": "completed"
    },
    "tags": []
   },
   "source": [
    "## **🖼️Görsellerin Manipüle Edilmesi ve Test Sonuçlarının Değerlendirilmesi**\r\n",
    "\r\n",
    "Bu adımda görseller üzerinde manipülasyon yaparak modelin performansını değerlendirdik:\r\n",
    "\r\n",
    "- **Kontrast Artırma**: Görsellerin kontrastı artırılarak daha belirgin hale getirildi. 🎨\r\n",
    "- **Döndürme**: Görseller saat yönünde 90 derece döndürüldü. 🔄\r\n",
    "- **Manipüle Edilmiş Görsellerin Testi**: Görsellerde yapılan bu değişiklikler modelin doğruluğunu nasıl etkilediğini görmek için test setinde model değerlendirildi. 📊\r\n",
    "\r\n",
    "📌 **Amaç**: Modelin manipüle edilmiş görseller üzerindeki dayanıklılığını ve performansını analiz etmek."
   ]
  },
  {
   "cell_type": "code",
   "execution_count": 10,
   "id": "68598ed5",
   "metadata": {
    "execution": {
     "iopub.execute_input": "2024-12-18T20:15:16.198021Z",
     "iopub.status.busy": "2024-12-18T20:15:16.197683Z",
     "iopub.status.idle": "2024-12-18T20:15:17.539957Z",
     "shell.execute_reply": "2024-12-18T20:15:17.539134Z"
    },
    "papermill": {
     "duration": 1.55203,
     "end_time": "2024-12-18T20:15:17.541549",
     "exception": false,
     "start_time": "2024-12-18T20:15:15.989519",
     "status": "completed"
    },
    "tags": []
   },
   "outputs": [
    {
     "name": "stdout",
     "output_type": "stream",
     "text": [
      "\u001b[1m45/45\u001b[0m \u001b[32m━━━━━━━━━━━━━━━━━━━━\u001b[0m\u001b[37m\u001b[0m \u001b[1m1s\u001b[0m 10ms/step - accuracy: 0.2624 - loss: 9.1488\n",
      "Manipüle Edilmiş Test Doğruluğu (Kontrast + Döndürme): 26.08%\n"
     ]
    }
   ],
   "source": [
    "def manipulate_images_v2(images):\n",
    "    manipulated_images = []\n",
    "    for img in images:\n",
    "        manipulated = cv2.convertScaleAbs(img, alpha=2.0, beta=0)  # Kontrast artırma\n",
    "        manipulated = cv2.rotate(manipulated, cv2.ROTATE_90_CLOCKWISE)  # Döndürme\n",
    "        manipulated_images.append(manipulated)\n",
    "    return np.array(manipulated_images)\n",
    "\n",
    "\n",
    "X_test_manipulated_v2 = manipulate_images_v2(X_test)\n",
    "\n",
    "\n",
    "manipulated_loss_v2, manipulated_accuracy_v2 = model_cnn.evaluate(X_test_manipulated_v2, y_test)\n",
    "print(f\"Manipüle Edilmiş Test Doğruluğu (Kontrast + Döndürme): {manipulated_accuracy_v2 * 100:.2f}%\")"
   ]
  },
  {
   "cell_type": "markdown",
   "id": "d20593dd",
   "metadata": {
    "papermill": {
     "duration": 0.207475,
     "end_time": "2024-12-18T20:15:17.960828",
     "exception": false,
     "start_time": "2024-12-18T20:15:17.753353",
     "status": "completed"
    },
    "tags": []
   },
   "source": [
    "## **🎨Renk Sabitliği Uygulaması ve Model Performansı**\r\n",
    "\r\n",
    "Bu adımda manipüle edilmiş görsellere renk sabitliği uygulayarak modelin performansını değerlendirdik:\r\n",
    "\r\n",
    "- **Renk Sabitliği**: Görsellerin renk dengesi ayarlandı, her renk kanalındaki ortalama değerlere göre ölçeklendirme yapıldı. 🌈\r\n",
    "- **Amaç**: Manipülasyon sonrası renk bozulmalarını düzelterek modelin doğruluğunu artırmak. 🔧\r\n",
    "- **Sonuçların Karşılaştırılması**: Renk sabitliği uygulanmış test seti ile model performansı yeniden ölçüldü. 📈\r\n",
    "\r\n",
    "📌 **Sonuç**: Bu adım, manipülasyondan etkilenen görseller üzerinde renk sabitliğinin etkisini analiz etmeyi amaçlar."
   ]
  },
  {
   "cell_type": "code",
   "execution_count": 11,
   "id": "ea3776f6",
   "metadata": {
    "execution": {
     "iopub.execute_input": "2024-12-18T20:15:18.415606Z",
     "iopub.status.busy": "2024-12-18T20:15:18.415253Z",
     "iopub.status.idle": "2024-12-18T20:15:19.440874Z",
     "shell.execute_reply": "2024-12-18T20:15:19.440086Z"
    },
    "papermill": {
     "duration": 1.236145,
     "end_time": "2024-12-18T20:15:19.442520",
     "exception": false,
     "start_time": "2024-12-18T20:15:18.206375",
     "status": "completed"
    },
    "tags": []
   },
   "outputs": [
    {
     "name": "stdout",
     "output_type": "stream",
     "text": [
      "\u001b[1m45/45\u001b[0m \u001b[32m━━━━━━━━━━━━━━━━━━━━\u001b[0m\u001b[37m\u001b[0m \u001b[1m0s\u001b[0m 4ms/step - accuracy: 0.1232 - loss: 35.4568\n",
      "Renk Sabitliği Uygulanmış Test Doğruluğu (Manipüle Edilmiş): 13.57%\n"
     ]
    }
   ],
   "source": [
    "def apply_color_correction(image):\n",
    "    avg_b, avg_g, avg_r = cv2.mean(image)[:3]\n",
    "    scale_b = 1.0 / (avg_b + 1e-5)\n",
    "    scale_g = 1.0 / (avg_g + 1e-5)\n",
    "    scale_r = 1.0 / (avg_r + 1e-5)\n",
    "    corrected_image = image * np.array([scale_b, scale_g, scale_r])\n",
    "    corrected_image = np.clip(corrected_image, 0, 255).astype(np.uint8)\n",
    "    return corrected_image\n",
    "\n",
    "\n",
    "X_test_corrected_v2 = np.array([apply_color_correction(img) for img in X_test_manipulated_v2])\n",
    "\n",
    "\n",
    "corrected_loss_v2, corrected_accuracy_v2 = model_cnn.evaluate(X_test_corrected_v2, y_test)\n",
    "print(f\"Renk Sabitliği Uygulanmış Test Doğruluğu (Manipüle Edilmiş): {corrected_accuracy_v2 * 100:.2f}%\")"
   ]
  },
  {
   "cell_type": "markdown",
   "id": "672b427f",
   "metadata": {
    "papermill": {
     "duration": 0.205426,
     "end_time": "2024-12-18T20:15:19.856719",
     "exception": false,
     "start_time": "2024-12-18T20:15:19.651293",
     "status": "completed"
    },
    "tags": []
   },
   "source": [
    "## **📊Model Doğruluk Sonuçlarının Karşılaştırılması**\r\n",
    "\r\n",
    "Bu aşamada, modelin farklı veri kümeleri üzerindeki performansı karşılaştırıldı:\r\n",
    "\r\n",
    "1. **Orijinal Test Seti**  \r\n",
    "   - Model, hiçbir manipülasyon yapılmamış test seti üzerinde değerlendirildi.  \r\n",
    "   - **Amaç**: Modelin temel doğruluğunu ölçmek. ✅  \r\n",
    "   - **Sonuç**: Orijinal test seti doğruluğu: **5.40%**\r\n",
    "\r\n",
    "2. **Manipüle Edilmiş Test Seti (Kontrast + Döndürme)**  \r\n",
    "   - Görseller üzerinde kontrast artırma ve döndürme işlemleri uygulandı.  \r\n",
    "   - **Amaç**: Modelin veri manipülasyonlarına karşı dayanıklılığını ölçmek. 🔄  \r\n",
    "   - **Sonuç**: Manipüle edilmiş test seti doğruluğu: **5.01%**\r\n",
    "\r\n",
    "3. **Renk Sabitliği Uygulanmış Test Seti**  \r\n",
    "   - Manipüle edilmiş görsellere renk sabitliği uygulandı.  \r\n",
    "   - **Amaç**: Manipülasyon sonrası görsellerin renk dengesi düzeltilerek model doğruluğunu artırmak. 🌈  \r\n",
    "   - **Sonuç**: Renk sabitliği uygulanmış test seti doğruluğu: **7.28%**\r\n",
    "\r\n",
    "📌 **Nihai Sonuçlar**:  \r\n",
    "- **Orijinal** ve **manipüle edilmiş** test setleri arasında ufak bir doğruluk kaybı gözlemlendi.  \r\n",
    "- **Renk sabitliği** uygulandığında, doğruluk belirgin şekilde artırıldı.  \r\n",
    "Bu sonuçlar, modelin manipülasyonlara duyarlı olduğunu ancak renk düzenlemeleri ile performansının iyileştirilebileceğini gösteriyor."
   ]
  },
  {
   "cell_type": "code",
   "execution_count": 12,
   "id": "c731693a",
   "metadata": {
    "execution": {
     "iopub.execute_input": "2024-12-18T20:15:20.270695Z",
     "iopub.status.busy": "2024-12-18T20:15:20.270321Z",
     "iopub.status.idle": "2024-12-18T20:15:23.179596Z",
     "shell.execute_reply": "2024-12-18T20:15:23.178621Z"
    },
    "papermill": {
     "duration": 3.119046,
     "end_time": "2024-12-18T20:15:23.181280",
     "exception": false,
     "start_time": "2024-12-18T20:15:20.062234",
     "status": "completed"
    },
    "tags": []
   },
   "outputs": [
    {
     "name": "stdout",
     "output_type": "stream",
     "text": [
      "\u001b[1m45/45\u001b[0m \u001b[32m━━━━━━━━━━━━━━━━━━━━\u001b[0m\u001b[37m\u001b[0m \u001b[1m1s\u001b[0m 11ms/step - accuracy: 0.6061 - loss: 1.2784\n",
      "Orijinal Test Seti Doğruluğu: 60.35%\n",
      "\u001b[1m45/45\u001b[0m \u001b[32m━━━━━━━━━━━━━━━━━━━━\u001b[0m\u001b[37m\u001b[0m \u001b[1m0s\u001b[0m 4ms/step - accuracy: 0.2624 - loss: 9.1488\n",
      "Manipüle Edilmiş Test Doğruluğu (Kontrast + Döndürme): 26.08%\n",
      "\u001b[1m45/45\u001b[0m \u001b[32m━━━━━━━━━━━━━━━━━━━━\u001b[0m\u001b[37m\u001b[0m \u001b[1m0s\u001b[0m 4ms/step - accuracy: 0.1232 - loss: 35.4568\n",
      "Renk Sabitliği Uygulanmış Test Doğruluğu (Manipüle Edilmiş): 13.57%\n",
      "\n",
      "Sonuçlar:\n",
      "Orijinal Test Seti Doğruluğu: 60.35%\n",
      "Manipüle Edilmiş Test Seti Doğruluğu (Kontrast + Döndürme): 26.08%\n",
      "Renk Sabitliği Uygulanmış Test Seti (Manipüle Edilmiş): 13.57%\n"
     ]
    }
   ],
   "source": [
    "\n",
    "loss, test_accuracy = model_cnn.evaluate(X_test, y_test)\n",
    "print(f\"Orijinal Test Seti Doğruluğu: {test_accuracy * 100:.2f}%\")\n",
    "\n",
    "\n",
    "manipulated_loss_v2, manipulated_accuracy_v2 = model_cnn.evaluate(X_test_manipulated_v2, y_test)\n",
    "print(f\"Manipüle Edilmiş Test Doğruluğu (Kontrast + Döndürme): {manipulated_accuracy_v2 * 100:.2f}%\")\n",
    "\n",
    "\n",
    "corrected_loss_v2, corrected_accuracy_v2 = model_cnn.evaluate(X_test_corrected_v2, y_test)\n",
    "print(f\"Renk Sabitliği Uygulanmış Test Doğruluğu (Manipüle Edilmiş): {corrected_accuracy_v2 * 100:.2f}%\")\n",
    "\n",
    "\n",
    "print(\"\\nSonuçlar:\")\n",
    "print(f\"Orijinal Test Seti Doğruluğu: {test_accuracy * 100:.2f}%\")\n",
    "print(f\"Manipüle Edilmiş Test Seti Doğruluğu (Kontrast + Döndürme): {manipulated_accuracy_v2 * 100:.2f}%\")\n",
    "print(f\"Renk Sabitliği Uygulanmış Test Seti (Manipüle Edilmiş): {corrected_accuracy_v2 * 100:.2f}%\")\n"
   ]
  }
 ],
 "metadata": {
  "kaggle": {
   "accelerator": "nvidiaTeslaT4",
   "dataSources": [
    {
     "datasetId": 1408532,
     "sourceId": 2333429,
     "sourceType": "datasetVersion"
    }
   ],
   "dockerImageVersionId": 30805,
   "isGpuEnabled": true,
   "isInternetEnabled": true,
   "language": "python",
   "sourceType": "notebook"
  },
  "kernelspec": {
   "display_name": "Python 3",
   "language": "python",
   "name": "python3"
  },
  "language_info": {
   "codemirror_mode": {
    "name": "ipython",
    "version": 3
   },
   "file_extension": ".py",
   "mimetype": "text/x-python",
   "name": "python",
   "nbconvert_exporter": "python",
   "pygments_lexer": "ipython3",
   "version": "3.10.14"
  },
  "papermill": {
   "default_parameters": {},
   "duration": 792.963655,
   "end_time": "2024-12-18T20:15:26.278206",
   "environment_variables": {},
   "exception": null,
   "input_path": "__notebook__.ipynb",
   "output_path": "__notebook__.ipynb",
   "parameters": {},
   "start_time": "2024-12-18T20:02:13.314551",
   "version": "2.6.0"
  }
 },
 "nbformat": 4,
 "nbformat_minor": 5
}
